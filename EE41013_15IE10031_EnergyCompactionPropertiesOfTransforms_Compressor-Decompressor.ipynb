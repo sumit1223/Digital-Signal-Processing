{
 "cells": [
  {
   "cell_type": "markdown",
   "metadata": {},
   "source": [
    "## Import libraries"
   ]
  },
  {
   "cell_type": "code",
   "execution_count": 16,
   "metadata": {
    "collapsed": true
   },
   "outputs": [],
   "source": [
    "import numpy as np\n",
    "from __future__ import division\n",
    "import matplotlib.pyplot as plt\n",
    "import sys\n",
    "import cmath\n",
    "import math\n",
    "from scipy.io import wavfile\n",
    "from scipy.fftpack import fft,ifft,dct,idct\n",
    "import pywt"
   ]
  },
  {
   "cell_type": "code",
   "execution_count": 17,
   "metadata": {
    "collapsed": true
   },
   "outputs": [],
   "source": [
    "def InputFromAudioFile():\n",
    "    fs, data = wavfile.read('audio_file.wav')\n",
    "    data = data[:fs]\n",
    "    return data\n",
    "\n",
    "def  RmDCT(X,L,N):\n",
    "    for i in range(N-L,N):\n",
    "        X[i]=0\n",
    "    return X    \n",
    "\n",
    "def Compressor(x,L,output_file_name):\n",
    "    N=x.shape[0]\n",
    "    b=32\n",
    "    M=N-L\n",
    "    # DCT\n",
    "    X = dct(x,norm='ortho')\n",
    "    # Reading from file and putting in X\n",
    "    f=open(output_file_name,'w+')\n",
    "    f.write(\"%d\\n\" %N)\n",
    "    f.write(\"%d\\n\" %M)\n",
    "    for i in range(M):\n",
    "        f.write(\"%f\\n\" %X[i])\n",
    "    f.close()\n",
    "           \n",
    "def Decompressor(input_file_name):\n",
    "    f=open(input_file_name,\"r\")\n",
    "    contents=f.readlines()\n",
    "    N=int(contents[0].strip('\\n'))\n",
    "    M=int(contents[1].strip('\\n'))\n",
    "    contents=contents[2:]\n",
    "    array=[]\n",
    "    for i in contents:\n",
    "        array=np.append(array,float(i.strip('\\n')))\n",
    "    for i in range(M,N,1):\n",
    "        array=np.append(array,0)\n",
    "\n",
    "    xm = idct(array,norm=\"ortho\")\n",
    "    return xm    "
   ]
  },
  {
   "cell_type": "markdown",
   "metadata": {},
   "source": [
    "## Main Function"
   ]
  },
  {
   "cell_type": "code",
   "execution_count": 18,
   "metadata": {},
   "outputs": [
    {
     "name": "stdout",
     "output_type": "stream",
     "text": [
      "44100\n"
     ]
    },
    {
     "data": {
      "text/plain": [
       "array([-456.00239461, -462.9928148 , -353.01197358, ..., 2196.98622953,\n",
       "       2384.00826277, 2569.99724553])"
      ]
     },
     "execution_count": 18,
     "metadata": {},
     "output_type": "execute_result"
    }
   ],
   "source": [
    "output_file_name = \"compressed.txt\"\n",
    "input_data = InputFromAudioFile()\n",
    "#print(input_data)\n",
    "Compressor(input_data, 200, output_file_name)\n",
    "\n",
    "output = Decompressor(output_file_name)\n",
    "print(len(output))\n",
    "output"
   ]
  }
 ],
 "metadata": {
  "kernelspec": {
   "display_name": "Python 3",
   "language": "python",
   "name": "python3"
  },
  "language_info": {
   "codemirror_mode": {
    "name": "ipython",
    "version": 3
   },
   "file_extension": ".py",
   "mimetype": "text/x-python",
   "name": "python",
   "nbconvert_exporter": "python",
   "pygments_lexer": "ipython3",
   "version": "3.6.3"
  }
 },
 "nbformat": 4,
 "nbformat_minor": 2
}
